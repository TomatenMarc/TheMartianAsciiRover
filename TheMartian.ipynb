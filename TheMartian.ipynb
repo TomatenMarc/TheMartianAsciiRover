{
 "cells": [
  {
   "cell_type": "markdown",
   "metadata": {},
   "source": [
    "# The Martian\n",
    "## Creating the communication System 1.0"
   ]
  },
  {
   "cell_type": "markdown",
   "metadata": {},
   "source": [
    "# The Basics"
   ]
  },
  {
   "cell_type": "markdown",
   "metadata": {},
   "source": [
    "Mark Watney hat das Problem, dass er alleine auf <br>\n",
    "dem Mars zurück geblieben ist. <br>\n",
    "<br>\n",
    "Nun muss er mit der Nasa Nachrichten austauschen um <br>\n",
    "seine Rettung zu planen.\n",
    "\n",
    "Dazu überlegt er wie man mit einem Rover auf die Literale<br>\n",
    "der Hexadezimalzahlen zeigen kann, da die Kommunikation stumm erfolgt.\n",
    "<br>\n",
    "Lesen sie den Artikel:<br>\n",
    "http://www.businessinsider.com/the-martian-hexidecimal-language-2015-9?IR=T\n",
    "\n",
    "- In welchem Winkel muss er die Literale aufstellen, damit er <br>\n",
    "  16 Schilder aufstellen kann?\n",
    "- Wieso ist es besser mit 16 Zeichen zu kommunizieren?\n",
    "\n",
    "Hexadezimale Zahlen bestehen aus 16 Zeichen: <br>\n",
    "0,1,2,3,4,5,6,7,8,9,A,B,C,D,E,F\n",
    "\n",
    "\n",
    "------------------------------------------------------\n",
    "Probleme von Mark Watney:\n",
    "  - String zu hexadezimaler Darstellung\n",
    "  - Er muss die Positionen der Hexadezimalen Werte bestimmen\n",
    "  - Aus den Hexwerten muss wieder ein String werden"
   ]
  },
  {
   "cell_type": "markdown",
   "metadata": {},
   "source": [
    "# Strings zu Hexadezimal\n",
    "Es ist wichtig zu wissen, dass Texte in der Informatik <br>\n",
    "als sog. *Strings* bezeichnet werden.<br>\n",
    "Ein einzelnes Zeichen wird als sog. *Char* bezeichnet. <br><be>\n",
    "Jeder *String* besteht aus einer *Liste* aus *Chars*."
   ]
  },
  {
   "cell_type": "markdown",
   "metadata": {},
   "source": [
    "### String zu Char\n",
    "Benutze die For-Schleife um jeden *Char* aus dem *String* zu holen."
   ]
  },
  {
   "cell_type": "code",
   "execution_count": 1,
   "metadata": {},
   "outputs": [],
   "source": [
    "string = \"Hallo Mars\"\n",
    "for char in string:\n",
    "    print(char)"
   ]
  },
  {
   "cell_type": "markdown",
   "metadata": {},
   "source": [
    "### Jeder Char hat einen Eintrag in der ASCII Tabelle\n",
    "Werfe dazu einen Blick in die ASCII Tabelle. <br>\n",
    "Betrachte dazu den *Decimal*-Wert.<br>\n",
    "Der *Dezimalwert* eines *Char* wird mit *ord* berechnet."
   ]
  },
  {
   "cell_type": "code",
   "execution_count": 2,
   "metadata": {},
   "outputs": [],
   "source": [
    "ord(\"A\"), ord(\"B\"), ord(\"Z\")"
   ]
  },
  {
   "cell_type": "markdown",
   "metadata": {},
   "source": [
    "Man kann mit diesen Werten rechnen."
   ]
  },
  {
   "cell_type": "code",
   "execution_count": 3,
   "metadata": {},
   "outputs": [],
   "source": [
    "ord(\"Z\") - ord(\"A\")"
   ]
  },
  {
   "cell_type": "markdown",
   "metadata": {},
   "source": [
    "Um an den *hexadezimalen*-Wert eines *Chars* zu kommen wird <br>\n",
    "der Befehl *hex* benötigt.<br>\n",
    "*hex* nimmt nur *dezimale*-Werte entgegen.<br>\n",
    "Somit müssen *ord* und *hex* verschachtelt werden."
   ]
  },
  {
   "cell_type": "code",
   "execution_count": 4,
   "metadata": {},
   "outputs": [],
   "source": [
    "hex(ord(\"A\")), hex(ord(\"B\")), hex(ord(\"Z\"))"
   ]
  },
  {
   "cell_type": "markdown",
   "metadata": {},
   "source": [
    "Vergleiche auch diese Werte in der ASCII Tabelle.<br>\n",
    "Betrachte dazu die Spalte *Hexadecimal*.<br><br>\n",
    "*Hexadezimale*-Werte sind vom Typen String, da sie aus<br>\n",
    "Zahlen und Buchstaben bestehen."
   ]
  },
  {
   "cell_type": "code",
   "execution_count": 5,
   "metadata": {},
   "outputs": [],
   "source": [
    "type(hex(ord(\"A\")))"
   ]
  },
  {
   "cell_type": "markdown",
   "metadata": {},
   "source": [
    "0x kenzeichnet einen *hexadezimal*-Wert. <br>\n",
    "Entferne diesen aus dem *String*."
   ]
  },
  {
   "cell_type": "code",
   "execution_count": 6,
   "metadata": {},
   "outputs": [],
   "source": [
    "hex(ord(\"A\")).replace(\"0x\", \"\")"
   ]
  },
  {
   "cell_type": "markdown",
   "metadata": {},
   "source": [
    "### String zu Hexadezimal\n",
    "Vergleiche mit der ASCII Tabelle"
   ]
  },
  {
   "cell_type": "code",
   "execution_count": 7,
   "metadata": {},
   "outputs": [
    {
     "name": "stdout",
     "output_type": "stream",
     "text": [
      "48\n",
      "61\n",
      "6c\n",
      "6c\n",
      "6f\n",
      "20\n",
      "4d\n",
      "61\n",
      "72\n",
      "73\n"
     ]
    }
   ],
   "source": [
    "string = \"Hallo Mars\"\n",
    "for char in string:\n",
    "    print(hex(ord(char)).replace(\"0x\", \"\"))"
   ]
  },
  {
   "cell_type": "markdown",
   "metadata": {},
   "source": [
    "Man kann also jeden Buchstaben in einen Hexcode aus <br>\n",
    "der ASCII Tabelle überführen. <br><br>\n",
    "Da wir wissen, dass hexadezimale Zahlen vom Typen String sind<br>\n",
    "können diese auch in einzelne Chars zerlegen."
   ]
  },
  {
   "cell_type": "code",
   "execution_count": 8,
   "metadata": {},
   "outputs": [
    {
     "name": "stdout",
     "output_type": "stream",
     "text": [
      "4\n",
      "8\n",
      "6\n",
      "1\n",
      "6\n",
      "c\n",
      "6\n",
      "c\n",
      "6\n",
      "f\n",
      "2\n",
      "0\n",
      "4\n",
      "d\n",
      "6\n",
      "1\n",
      "7\n",
      "2\n",
      "7\n",
      "3\n"
     ]
    }
   ],
   "source": [
    "string = \"Hallo Mars\"\n",
    "for char in string:\n",
    "    for value in hex(ord(char)).replace(\"0x\", \"\"):\n",
    "        print(value)"
   ]
  },
  {
   "cell_type": "markdown",
   "metadata": {},
   "source": [
    "Man kann einen String auch direkt in <br>\n",
    "die Hexadezimale Darstellung überführen."
   ]
  },
  {
   "cell_type": "code",
   "execution_count": 9,
   "metadata": {},
   "outputs": [],
   "source": [
    "def turns(hex_string, i, is_start=False):\n",
    "    valid = [\"0\", \"1\", \"2\", \"3\", \"4\", \"5\", \"6\", \"7\", \"8\", \"9\",\n",
    "             \"a\", \"b\", \"c\", \"d\", \"e\", \"f\"]\n",
    "    \n",
    "    current_pos = valid.index(hex_string[i])\n",
    "    \n",
    "    if is_start:\n",
    "        next_pos = 0\n",
    "    else: \n",
    "        next_pos = valid.index(hex_string[i+1])\n",
    "        \n",
    "    possible = abs(next_pos - current_pos)\n",
    "    \n",
    "    if current_pos < next_pos:\n",
    "        alternative = abs((current_pos - next_pos)%16)\n",
    "        if alternative < possible:\n",
    "            print(\"{0} steps left\".format(alternative))\n",
    "        else:\n",
    "            print(\"{0} steps right\".format(possible))\n",
    "    else:\n",
    "        alternative = abs((next_pos - current_pos)%16)\n",
    "        if alternative < possible:\n",
    "            if is_start:\n",
    "                print(\"{0} steps left\".format(alternative))\n",
    "            else:\n",
    "                print(\"{0} steps right\".format(alternative))\n",
    "        else:\n",
    "            if is_start:\n",
    "                print(\"{0} steps right\".format(possible))\n",
    "            else:\n",
    "                print(\"{0} steps left\".format(possible))"
   ]
  },
  {
   "cell_type": "code",
   "execution_count": 10,
   "metadata": {},
   "outputs": [
    {
     "data": {
      "text/plain": [
       "'df'"
      ]
     },
     "execution_count": 10,
     "metadata": {},
     "output_type": "execute_result"
    }
   ],
   "source": [
    "string = \"ß\"\n",
    "hex_string = ''.join([hex(ord(char)) for char in string])\n",
    "hex_string = hex_string.replace(\"0x\", \"\")\n",
    "hex_string"
   ]
  },
  {
   "cell_type": "code",
   "execution_count": 11,
   "metadata": {},
   "outputs": [
    {
     "name": "stdout",
     "output_type": "stream",
     "text": [
      "3 steps left\n",
      "2 steps right\n"
     ]
    }
   ],
   "source": [
    "for i in range(0 , len(hex_string)):\n",
    "    if i is 0:\n",
    "        turns(hex_string, i, True)\n",
    "    if i is not len(hex_string)-1:\n",
    "        turns(hex_string, i)"
   ]
  },
  {
   "cell_type": "code",
   "execution_count": null,
   "metadata": {},
   "outputs": [],
   "source": []
  },
  {
   "cell_type": "code",
   "execution_count": null,
   "metadata": {},
   "outputs": [],
   "source": []
  }
 ],
 "metadata": {
  "kernelspec": {
   "display_name": "Python 3",
   "language": "python",
   "name": "python3"
  },
  "language_info": {
   "codemirror_mode": {
    "name": "ipython",
    "version": 3
   },
   "file_extension": ".py",
   "mimetype": "text/x-python",
   "name": "python",
   "nbconvert_exporter": "python",
   "pygments_lexer": "ipython3",
   "version": "3.6.3"
  }
 },
 "nbformat": 4,
 "nbformat_minor": 2
}
