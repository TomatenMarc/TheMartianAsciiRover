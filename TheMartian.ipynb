{
 "cells": [
  {
   "cell_type": "markdown",
   "metadata": {},
   "source": [
    "# The Martian\n",
    "## Creating the communication System 1.0"
   ]
  },
  {
   "cell_type": "markdown",
   "metadata": {},
   "source": [
    "# The Basics"
   ]
  },
  {
   "cell_type": "markdown",
   "metadata": {},
   "source": [
    "Mark Watney hat das Problem, dass er alleine auf <br>\n",
    "dem Mars zurück geblieben ist. <br>\n",
    "<b>\n",
    "\n",
    "------------------------------------------------------\n",
    "Probleme von Mark Watney:\n",
    "  - String zu hexadezimaler Darstellung\n",
    "  - Er muss die Positionen der Hexadezimalen Werte bestimmen\n",
    "  - Aus den Hexwerten muss wieder ein String werden"
   ]
  },
  {
   "cell_type": "markdown",
   "metadata": {},
   "source": [
    "# Strings zu Hexadezimal\n",
    "Es ist wichtig zu wissen, dass Texte in der Informatik <br>\n",
    "als sog. *Strings* bezeichnet werden.<br>\n",
    "Ein einzelnes Zeichen wird als sog. *Char* bezeichnet. <br><be>\n",
    "Jeder *String* besteht aus einer *Liste* aus *Chars*."
   ]
  },
  {
   "cell_type": "markdown",
   "metadata": {},
   "source": [
    "### String zu Char\n",
    "Benutze die For-Schleife um jeden *Char* aus dem *String* zu holen."
   ]
  },
  {
   "cell_type": "code",
   "execution_count": 1,
   "metadata": {},
   "outputs": [
    {
     "name": "stdout",
     "output_type": "stream",
     "text": [
      "H\n",
      "a\n",
      "l\n",
      "l\n",
      "o\n",
      " \n",
      "M\n",
      "a\n",
      "r\n",
      "s\n"
     ]
    }
   ],
   "source": [
    "string = \"Hallo Mars\"\n",
    "for char in string:\n",
    "    print(char)"
   ]
  },
  {
   "cell_type": "markdown",
   "metadata": {},
   "source": [
    "### Jeder Char hat einen Eintrag in der ASCII Tabelle\n",
    "Werfe dazu einen Blick in die ASCII Tabelle. <br>\n",
    "Betrachte dazu den *Decimal*-Wert.<br>\n",
    "Der *Dezimalwert* eines *Char* wird mit *ord* berechnet."
   ]
  },
  {
   "cell_type": "code",
   "execution_count": 2,
   "metadata": {},
   "outputs": [
    {
     "data": {
      "text/plain": [
       "(65, 66, 90)"
      ]
     },
     "execution_count": 2,
     "metadata": {},
     "output_type": "execute_result"
    }
   ],
   "source": [
    "ord(\"A\"), ord(\"B\"), ord(\"Z\")"
   ]
  },
  {
   "cell_type": "markdown",
   "metadata": {},
   "source": [
    "Man kann mit diesen Werten rechnen."
   ]
  },
  {
   "cell_type": "code",
   "execution_count": 3,
   "metadata": {},
   "outputs": [
    {
     "data": {
      "text/plain": [
       "25"
      ]
     },
     "execution_count": 3,
     "metadata": {},
     "output_type": "execute_result"
    }
   ],
   "source": [
    "ord(\"Z\") - ord(\"A\")"
   ]
  },
  {
   "cell_type": "markdown",
   "metadata": {},
   "source": [
    "Um an den *hexadezimalen*-Wert eines *Chars* zu kommen wird <br>\n",
    "der Befehl *hex* benötigt.<br>\n",
    "*hex* nimmt nur *dezimale*-Werte entgegen.<br>\n",
    "Somit müssen *ord* und *hex* verschachtelt werden."
   ]
  },
  {
   "cell_type": "code",
   "execution_count": 4,
   "metadata": {},
   "outputs": [
    {
     "data": {
      "text/plain": [
       "('0x41', '0x42', '0x5a')"
      ]
     },
     "execution_count": 4,
     "metadata": {},
     "output_type": "execute_result"
    }
   ],
   "source": [
    "hex(ord(\"A\")), hex(ord(\"B\")), hex(ord(\"Z\"))"
   ]
  },
  {
   "cell_type": "markdown",
   "metadata": {},
   "source": [
    "Vergleiche auch diese Werte in der ASCII Tabelle.<br>\n",
    "Betrachte dazu die Spalte *Hexadecimal*.<br><br>\n",
    "*Hexadezimale*-Werte sind vom Typen String, da sie aus<br>\n",
    "Zahlen und Buchstaben bestehen."
   ]
  },
  {
   "cell_type": "code",
   "execution_count": 5,
   "metadata": {},
   "outputs": [
    {
     "data": {
      "text/plain": [
       "str"
      ]
     },
     "execution_count": 5,
     "metadata": {},
     "output_type": "execute_result"
    }
   ],
   "source": [
    "type(hex(ord(\"A\")))"
   ]
  },
  {
   "cell_type": "markdown",
   "metadata": {},
   "source": [
    "0x kenzeichnet einen *hexadezimal*-Wert. <br>\n",
    "Entferne diesen aus dem *String*."
   ]
  },
  {
   "cell_type": "code",
   "execution_count": 6,
   "metadata": {},
   "outputs": [
    {
     "data": {
      "text/plain": [
       "'41'"
      ]
     },
     "execution_count": 6,
     "metadata": {},
     "output_type": "execute_result"
    }
   ],
   "source": [
    "hex(ord(\"A\")).replace(\"0x\", \"\")"
   ]
  },
  {
   "cell_type": "markdown",
   "metadata": {},
   "source": [
    "### String zu Hexadezimal\n",
    "Vergleiche mit der ASCII Tabelle"
   ]
  },
  {
   "cell_type": "code",
   "execution_count": 7,
   "metadata": {},
   "outputs": [
    {
     "name": "stdout",
     "output_type": "stream",
     "text": [
      "48\n",
      "61\n",
      "6c\n",
      "6c\n",
      "6f\n",
      "20\n",
      "4d\n",
      "61\n",
      "72\n",
      "73\n"
     ]
    }
   ],
   "source": [
    "string = \"Hallo Mars\"\n",
    "for char in string:\n",
    "    print(hex(ord(char)).replace(\"0x\", \"\"))"
   ]
  },
  {
   "cell_type": "markdown",
   "metadata": {},
   "source": [
    "Man kann also jeden Buchstaben in einen Hexcode aus <br>\n",
    "der ASCII Tabelle überführen. <br><br>\n",
    "Da wir wissen, dass hexadezimale Zahlen vom Typen String sind<br>\n",
    "können diese auch in einzelne Chars zerlegen."
   ]
  },
  {
   "cell_type": "code",
   "execution_count": 8,
   "metadata": {},
   "outputs": [
    {
     "name": "stdout",
     "output_type": "stream",
     "text": [
      "4\n",
      "8\n",
      "6\n",
      "1\n",
      "6\n",
      "c\n",
      "6\n",
      "c\n",
      "6\n",
      "f\n",
      "2\n",
      "0\n",
      "4\n",
      "d\n",
      "6\n",
      "1\n",
      "7\n",
      "2\n",
      "7\n",
      "3\n"
     ]
    }
   ],
   "source": [
    "string = \"Hallo Mars\"\n",
    "for char in string:\n",
    "    for value in hex(ord(char)).replace(\"0x\", \"\"):\n",
    "        print(value)"
   ]
  }
 ],
 "metadata": {
  "kernelspec": {
   "display_name": "Python 3",
   "language": "python",
   "name": "python3"
  },
  "language_info": {
   "codemirror_mode": {
    "name": "ipython",
    "version": 3
   },
   "file_extension": ".py",
   "mimetype": "text/x-python",
   "name": "python",
   "nbconvert_exporter": "python",
   "pygments_lexer": "ipython3",
   "version": "3.6.3"
  }
 },
 "nbformat": 4,
 "nbformat_minor": 2
}
